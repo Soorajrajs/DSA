{
 "cells": [
  {
   "cell_type": "code",
   "execution_count": 1,
   "metadata": {},
   "outputs": [],
   "source": [
    "import sys"
   ]
  },
  {
   "cell_type": "code",
   "execution_count": 2,
   "metadata": {},
   "outputs": [
    {
     "data": {
      "text/plain": [
       "56"
      ]
     },
     "execution_count": 2,
     "metadata": {},
     "output_type": "execute_result"
    }
   ],
   "source": [
    "L =[]\n",
    "sys.getsizeof(L)"
   ]
  },
  {
   "cell_type": "code",
   "execution_count": 15,
   "metadata": {},
   "outputs": [],
   "source": [
    "L.append(21248)"
   ]
  },
  {
   "cell_type": "code",
   "execution_count": 16,
   "metadata": {},
   "outputs": [
    {
     "data": {
      "text/plain": [
       "['Hello', 21, 212, 2124, 21248]"
      ]
     },
     "execution_count": 16,
     "metadata": {},
     "output_type": "execute_result"
    }
   ],
   "source": [
    "L"
   ]
  },
  {
   "cell_type": "code",
   "execution_count": 22,
   "metadata": {},
   "outputs": [
    {
     "data": {
      "text/plain": [
       "56"
      ]
     },
     "execution_count": 22,
     "metadata": {},
     "output_type": "execute_result"
    }
   ],
   "source": [
    "sys.getsizeof(L)"
   ]
  },
  {
   "cell_type": "code",
   "execution_count": 21,
   "metadata": {},
   "outputs": [],
   "source": [
    "L.clear()"
   ]
  },
  {
   "cell_type": "code",
   "execution_count": 23,
   "metadata": {},
   "outputs": [
    {
     "name": "stdout",
     "output_type": "stream",
     "text": [
      "88\n",
      "88\n",
      "88\n",
      "88\n",
      "120\n",
      "120\n",
      "120\n",
      "120\n",
      "184\n",
      "184\n",
      "184\n",
      "184\n",
      "184\n",
      "184\n",
      "184\n",
      "184\n",
      "248\n",
      "248\n",
      "248\n",
      "248\n",
      "248\n",
      "248\n",
      "248\n",
      "248\n",
      "312\n",
      "312\n",
      "312\n",
      "312\n",
      "312\n",
      "312\n",
      "312\n",
      "312\n",
      "376\n",
      "376\n",
      "376\n",
      "376\n",
      "376\n",
      "376\n",
      "376\n",
      "376\n",
      "472\n",
      "472\n",
      "472\n",
      "472\n",
      "472\n",
      "472\n",
      "472\n",
      "472\n",
      "472\n"
     ]
    }
   ],
   "source": [
    "for i in range(1,50):\n",
    "    L.append(i)\n",
    "    print(sys.getsizeof(L))"
   ]
  },
  {
   "cell_type": "markdown",
   "metadata": {},
   "source": [
    "By 32 the size of list gets extended. for empty list size was 56 and added element size increased to 88 and after entering 5 element size increased to 120...."
   ]
  },
  {
   "cell_type": "markdown",
   "metadata": {},
   "source": [
    "He we are going to create our own List using the ctype module in python.\n",
    "In python ctype isa  powerful tool that allows us to interact with C data types, and it provides a way of creating new\n",
    "In Python, the ctypes module provides C compatible data types, and allows calling functions in DLLs/shared libraries. It can be used to wrap these libraries in Pure Python"
   ]
  },
  {
   "cell_type": "code",
   "execution_count": 25,
   "metadata": {},
   "outputs": [],
   "source": [
    "import ctypes"
   ]
  },
  {
   "cell_type": "code",
   "execution_count": 26,
   "metadata": {},
   "outputs": [],
   "source": [
    "class MyList():\n",
    "    def __init__(self):\n",
    "        self.size=1 # Will give how much item can be stored in the array\n",
    "        self.n=0   # Will keep track of number of items  added so far\n",
    "        #Create a C type array with size = self.size\n",
    "        self.A=self._make_array(self.size)\n",
    "\n",
    "    def _make_array(self,capacity):\n",
    "        return (capacity*ctypes.py_object)()\n"
   ]
  },
  {
   "cell_type": "code",
   "execution_count": 42,
   "metadata": {},
   "outputs": [],
   "source": [
    "L=MyList()"
   ]
  },
  {
   "cell_type": "code",
   "execution_count": 43,
   "metadata": {},
   "outputs": [
    {
     "data": {
      "text/plain": [
       "__main__.MyList"
      ]
     },
     "execution_count": 43,
     "metadata": {},
     "output_type": "execute_result"
    }
   ],
   "source": [
    "type(L)"
   ]
  },
  {
   "cell_type": "code",
   "execution_count": 44,
   "metadata": {},
   "outputs": [
    {
     "ename": "TypeError",
     "evalue": "object of type 'MyList' has no len()",
     "output_type": "error",
     "traceback": [
      "\u001b[1;31m---------------------------------------------------------------------------\u001b[0m",
      "\u001b[1;31mTypeError\u001b[0m                                 Traceback (most recent call last)",
      "Cell \u001b[1;32mIn[44], line 1\u001b[0m\n\u001b[1;32m----> 1\u001b[0m \u001b[38;5;28;43mlen\u001b[39;49m\u001b[43m(\u001b[49m\u001b[43mL\u001b[49m\u001b[43m)\u001b[49m\n",
      "\u001b[1;31mTypeError\u001b[0m: object of type 'MyList' has no len()"
     ]
    }
   ],
   "source": [
    "len(L)"
   ]
  }
 ],
 "metadata": {
  "kernelspec": {
   "display_name": "Python 3",
   "language": "python",
   "name": "python3"
  },
  "language_info": {
   "codemirror_mode": {
    "name": "ipython",
    "version": 3
   },
   "file_extension": ".py",
   "mimetype": "text/x-python",
   "name": "python",
   "nbconvert_exporter": "python",
   "pygments_lexer": "ipython3",
   "version": "3.12.1"
  }
 },
 "nbformat": 4,
 "nbformat_minor": 2
}
