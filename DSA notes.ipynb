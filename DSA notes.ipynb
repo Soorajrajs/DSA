{
 "cells": [
  {
   "cell_type": "code",
   "execution_count": 122,
   "metadata": {},
   "outputs": [],
   "source": [
    "import sys"
   ]
  },
  {
   "cell_type": "code",
   "execution_count": 123,
   "metadata": {},
   "outputs": [
    {
     "data": {
      "text/plain": [
       "56"
      ]
     },
     "execution_count": 123,
     "metadata": {},
     "output_type": "execute_result"
    }
   ],
   "source": [
    "L =[]\n",
    "sys.getsizeof(L)"
   ]
  },
  {
   "cell_type": "code",
   "execution_count": 124,
   "metadata": {},
   "outputs": [],
   "source": [
    "L.append(21248)"
   ]
  },
  {
   "cell_type": "code",
   "execution_count": 125,
   "metadata": {},
   "outputs": [
    {
     "data": {
      "text/plain": [
       "[21248]"
      ]
     },
     "execution_count": 125,
     "metadata": {},
     "output_type": "execute_result"
    }
   ],
   "source": [
    "L"
   ]
  },
  {
   "cell_type": "code",
   "execution_count": 126,
   "metadata": {},
   "outputs": [
    {
     "data": {
      "text/plain": [
       "88"
      ]
     },
     "execution_count": 126,
     "metadata": {},
     "output_type": "execute_result"
    }
   ],
   "source": [
    "sys.getsizeof(L)"
   ]
  },
  {
   "cell_type": "code",
   "execution_count": 127,
   "metadata": {},
   "outputs": [],
   "source": [
    "L.clear()"
   ]
  },
  {
   "cell_type": "code",
   "execution_count": 128,
   "metadata": {},
   "outputs": [
    {
     "name": "stdout",
     "output_type": "stream",
     "text": [
      "88\n",
      "88\n",
      "88\n",
      "88\n",
      "120\n",
      "120\n",
      "120\n",
      "120\n",
      "184\n",
      "184\n",
      "184\n",
      "184\n",
      "184\n",
      "184\n",
      "184\n",
      "184\n",
      "248\n",
      "248\n",
      "248\n",
      "248\n",
      "248\n",
      "248\n",
      "248\n",
      "248\n",
      "312\n",
      "312\n",
      "312\n",
      "312\n",
      "312\n",
      "312\n",
      "312\n",
      "312\n",
      "376\n",
      "376\n",
      "376\n",
      "376\n",
      "376\n",
      "376\n",
      "376\n",
      "376\n",
      "472\n",
      "472\n",
      "472\n",
      "472\n",
      "472\n",
      "472\n",
      "472\n",
      "472\n",
      "472\n"
     ]
    }
   ],
   "source": [
    "for i in range(1,50):\n",
    "    L.append(i)\n",
    "    print(sys.getsizeof(L))"
   ]
  },
  {
   "cell_type": "markdown",
   "metadata": {},
   "source": [
    "By 32 the size of list gets extended. for empty list size was 56 and added element size increased to 88 and after entering 5 element size increased to 120...."
   ]
  },
  {
   "cell_type": "markdown",
   "metadata": {},
   "source": [
    "He we are going to create our own List using the ctype module in python.\n",
    "In python ctype isa  powerful tool that allows us to interact with C data types, and it provides a way of creating new\n",
    "In Python, the ctypes module provides C compatible data types, and allows calling functions in DLLs/shared libraries. It can be used to wrap these libraries in Pure Python"
   ]
  },
  {
   "cell_type": "code",
   "execution_count": null,
   "metadata": {},
   "outputs": [],
   "source": [
    "import ctypes"
   ]
  },
  {
   "cell_type": "code",
   "execution_count": null,
   "metadata": {},
   "outputs": [],
   "source": [
    "class MyList():\n",
    "    def __init__(self):\n",
    "        self.size=1 # Will give how much item can be stored in the array\n",
    "        self.n=0   # Will keep track of number of items  added so far\n",
    "        #Create a C type array with size = self.size\n",
    "        self.A=self.__make_array(self.size)\n",
    "    \n",
    "    def __len__(self):\n",
    "        return self.n\n",
    "\n",
    "    def __make_array(self,capacity):\n",
    "        return (capacity*ctypes.py_object)()\n"
   ]
  },
  {
   "cell_type": "code",
   "execution_count": null,
   "metadata": {},
   "outputs": [],
   "source": [
    "L=MyList()"
   ]
  },
  {
   "cell_type": "code",
   "execution_count": null,
   "metadata": {},
   "outputs": [],
   "source": [
    "type(L)"
   ]
  },
  {
   "cell_type": "code",
   "execution_count": null,
   "metadata": {},
   "outputs": [],
   "source": [
    "len(L)"
   ]
  },
  {
   "cell_type": "markdown",
   "metadata": {},
   "source": [
    "While adding the append fuctionality we need to check two things:\n",
    "    (i)Whether the list is vacant, append the element provide\n",
    "        if self.n==self.size:\n",
    "    (ii)If it's not empty, Need to resize the array"
   ]
  },
  {
   "cell_type": "code",
   "execution_count": null,
   "metadata": {},
   "outputs": [],
   "source": [
    "class MyList():\n",
    "    def __init__(self):\n",
    "        self.size=1 # Will give how much item can be stored in the array\n",
    "        self.n=0   # Will keep track of number of items  added so far\n",
    "        #Create a C type array with size = self.size\n",
    "        self.A=self.__make_array(self.size)\n",
    "    \n",
    "    def __len__(self):\n",
    "        return self.n\n",
    "\n",
    "    def __make_array(self,capacity):\n",
    "        return (capacity*ctypes.py_object)()\n",
    "    \n",
    "    def append(self,item):\n",
    "        #check for the  availability of memory first\n",
    "        if self.n==self.size:\n",
    "            self.__resize(self.size*2)\n",
    "        #Adding an element to the list\n",
    "        self.A[self.n]=item\n",
    "        self.n+=1\n",
    "    \n",
    "    def __resize(self,newCapacity):\n",
    "        #Creating new Array of given capacity \n",
    "        new_array=self.__make_array(newCapacity)\n",
    "        self.size=newCapacity\n",
    "        #copy the content of A to new_array\n",
    "        for i in range(self.n):\n",
    "            new_array[i] = self.A[i]\n",
    "        #reassign A\n",
    "        self.A = new_array\n",
    "\n",
    "    \n",
    "\n",
    "    #to print the list\n",
    "    def __str__(self):\n",
    "        result=''\n",
    "        for i in range(self.n):\n",
    "            result=result+str(self.A[i])+','\n",
    "        return '['+result[:-1]+']'\n",
    "    \n",
    "    #to provide the indexing\n",
    "    def __getitem__(self,index):\n",
    "        if index<0 or index>=self.n :\n",
    "            return \"IndexError:list index out of range\"\n",
    "        else:\n",
    "            return self.A[index]\n",
    "    \n",
    "    def pop(self):\n",
    "        \n",
    "\n"
   ]
  },
  {
   "cell_type": "code",
   "execution_count": null,
   "metadata": {},
   "outputs": [],
   "source": [
    "L=MyList()"
   ]
  },
  {
   "cell_type": "code",
   "execution_count": null,
   "metadata": {},
   "outputs": [],
   "source": [
    "L.append('Sooraj')"
   ]
  },
  {
   "cell_type": "code",
   "execution_count": null,
   "metadata": {},
   "outputs": [],
   "source": [
    "len(L)"
   ]
  },
  {
   "cell_type": "code",
   "execution_count": null,
   "metadata": {},
   "outputs": [],
   "source": [
    "print(L)"
   ]
  },
  {
   "cell_type": "code",
   "execution_count": null,
   "metadata": {},
   "outputs": [],
   "source": [
    "L[1]"
   ]
  },
  {
   "cell_type": "code",
   "execution_count": null,
   "metadata": {},
   "outputs": [],
   "source": [
    "stock=[298,305,320,301,292]"
   ]
  },
  {
   "cell_type": "code",
   "execution_count": null,
   "metadata": {},
   "outputs": [],
   "source": [
    "for index,value in enumerate(stock):\n",
    "    print(f\"Day {index+1} : Stock Price {value}\")"
   ]
  },
  {
   "cell_type": "markdown",
   "metadata": {},
   "source": [
    "# Time complexity\n",
    "1.accessing the element,stock[2] is O(1) because accessing an array by index directly takes constant time. \n",
    "\n",
    "2.Checking for a stock price to find the day\n",
    "    for i range(len(stock)):\n",
    "        if price[i]==301\n",
    "        return i \n",
    "    // This loop will take O(n) time as it checks each element of 'price' list with the given value and returns the first occurrence\n",
    "\n",
    "3.Print all the prices\n",
    "    for price range(len(stock)):\n",
    "        print(price)\n",
    "    complexity of this is also  O(n), where n is the number of elements in the list \"price\".\n",
    "\n",
    "4.Insert a new price at given index\n",
    "    stock.insert(index,value)\n",
    "    This operation will take O(n) time as it needs to shift all the elements from that position till end of the list one place forward.\n",
    "\n",
    "5.Deleting an element\n",
    "    stock.remove(value)\n",
    "    will take a time complexity of O(n). In worst case scenario it has to traverse through all the elements until it finds the value that\n",
    "\n",
    "6.Sorting the list\n",
    "    The Python built-in function sorted() has a time complexity of O(n log(n)).\n"
   ]
  },
  {
   "cell_type": "markdown",
   "metadata": {},
   "source": [
    "Static array and Dynamic Array(Geometric  Progression)"
   ]
  },
  {
   "cell_type": "code",
   "execution_count": null,
   "metadata": {},
   "outputs": [],
   "source": [
    "expense={'January':2200,'February':2350,'March':1897,'April':2130,'May':2190}\n",
    "# print(expense['January'])\n",
    "# expense['February']-expense['January']\n",
    "for key,value in expense.items():\n",
    "    print(value)"
   ]
  },
  {
   "cell_type": "code",
   "execution_count": null,
   "metadata": {},
   "outputs": [],
   "source": [
    "expense=[2200,2350,2600,2130,2190]"
   ]
  },
  {
   "cell_type": "code",
   "execution_count": null,
   "metadata": {},
   "outputs": [],
   "source": [
    "expense[1]-expense[0]"
   ]
  },
  {
   "cell_type": "code",
   "execution_count": null,
   "metadata": {},
   "outputs": [],
   "source": [
    "sum=0\n",
    "for i in range(3):\n",
    "    sum=sum+expense[i]\n",
    "print(sum)"
   ]
  },
  {
   "cell_type": "code",
   "execution_count": null,
   "metadata": {},
   "outputs": [],
   "source": [
    "search=2000\n",
    "for i in range(len(expense)):\n",
    "    if expense[i]==2000:\n",
    "        break\n",
    "        print(\"was found at\")\n",
    "    else:\n",
    "        print(\"Not Found\")\n",
    "        break"
   ]
  },
  {
   "cell_type": "code",
   "execution_count": null,
   "metadata": {},
   "outputs": [],
   "source": [
    "expense.append(1980)"
   ]
  },
  {
   "cell_type": "code",
   "execution_count": null,
   "metadata": {},
   "outputs": [],
   "source": [
    "refund=expense[3]-200\n",
    "expense.insert(3,refund)"
   ]
  },
  {
   "cell_type": "code",
   "execution_count": null,
   "metadata": {},
   "outputs": [],
   "source": [
    "expense"
   ]
  },
  {
   "cell_type": "code",
   "execution_count": null,
   "metadata": {},
   "outputs": [],
   "source": [
    "\n",
    "heros=['spider man','thor','hulk','iron man','captain america']"
   ]
  },
  {
   "cell_type": "code",
   "execution_count": null,
   "metadata": {},
   "outputs": [],
   "source": [
    "heros.append('black panther')"
   ]
  },
  {
   "cell_type": "code",
   "execution_count": null,
   "metadata": {},
   "outputs": [],
   "source": [
    "heros"
   ]
  },
  {
   "cell_type": "code",
   "execution_count": null,
   "metadata": {},
   "outputs": [],
   "source": [
    "heros.pop()\n"
   ]
  },
  {
   "cell_type": "code",
   "execution_count": null,
   "metadata": {},
   "outputs": [],
   "source": [
    "heros.insert(3,'black panther')"
   ]
  },
  {
   "cell_type": "code",
   "execution_count": null,
   "metadata": {},
   "outputs": [],
   "source": [
    "heros.sort()"
   ]
  },
  {
   "cell_type": "code",
   "execution_count": null,
   "metadata": {},
   "outputs": [],
   "source": [
    "dir(list)"
   ]
  },
  {
   "cell_type": "code",
   "execution_count": null,
   "metadata": {},
   "outputs": [],
   "source": [
    "max_number=int(input(\"Enter a number\"))\n",
    "for i in range(1,max_number+1):\n",
    "    if (i%2!=0):\n",
    "        print(i)\n"
   ]
  },
  {
   "cell_type": "code",
   "execution_count": 120,
   "metadata": {},
   "outputs": [
    {
     "name": "stdout",
     "output_type": "stream",
     "text": [
      "The list of odd numbers from  1 to 100 is:\n",
      "[1, 3, 5, 7, 9, 11, 13, 15, 17, 19, 21, 23, 25, 27, 29, 31, 33, 35, 37, 39, 41, 43, 45, 47, 49, 51, 53, 55, 57, 59, 61, 63, 65, 67, 69, 71, 73, 75, 77, 79, 81, 83, 85, 87, 89, 91, 93, 95, 97, 99]\n"
     ]
    }
   ],
   "source": [
    "max_number=int(input(\"Enter a number\"))\n",
    "odd_numbers=[]\n",
    "for i in range (1,max_number+1):\n",
    "    if i%2!=0:\n",
    "        odd_numbers.append(i)\n",
    "print (\"The list of odd numbers from  1 to\",max_number,\"is:\")\n",
    "print (odd_numbers)"
   ]
  },
  {
   "cell_type": "markdown",
   "metadata": {},
   "source": [
    "Linked List has two main advantage  over Array. \n",
    "1) You dont need to pre-allocate space\n",
    "    It is dynamic and can grow or shrink in size as required, unlike an array which needs to be declared with a fixed size at the time of creation.\n",
    "2) Elements can be added or removed dynamically or insertion is easier\n",
    "\n",
    "Inserting element at beginning- O(1)\n",
    "Insertion in the middle - O(n)\n",
    "deleting element at beginning-O(1)\n",
    "Deleting an element from end of list - O(n)\n",
    "Linked List Traversal-O(n)\n",
    "Accessing Element by Value-O(n)\n",
    "\n",
    "Doubly-Linked list have the pointer to the previous node and to the next node\n",
    "With doubly linkedlist , we can traverse backward as well as forward and backward traveesal becomes easier\n",
    "\n"
   ]
  },
  {
   "cell_type": "code",
   "execution_count": 57,
   "metadata": {},
   "outputs": [],
   "source": [
    "class Node:\n",
    "    def __init__(self, data=None, next=None):\n",
    "        self.data = data #data in the node\n",
    "        self.next = next  #pointer to the next node\n",
    "\n",
    "class LinkedList:\n",
    "    def __init__(self):\n",
    "        self.head = None\n",
    "    \n",
    "    def insert_at_begining(self,data):\n",
    "        node=Node(data,self.head) #create the data and  point it at head\n",
    "        self.head=node             #set new node as head of linked list\n",
    "\n",
    "    def insert_at_end(self,data):\n",
    "        if self.head is None:\n",
    "            self.head=Node(data,None)\n",
    "            return\n",
    "        itr=self.head\n",
    "        while itr.next:\n",
    "            itr=itr.next\n",
    "        \n",
    "        itr.next=Node(data,None)\n",
    "\n",
    "    def insert_values(self,data_list):\n",
    "        self.head=None\n",
    "        for data in data_list:\n",
    "            self.insert_at_end(data)\n",
    "\n",
    "    def get_length(self):\n",
    "        count=0\n",
    "        itr=self.head\n",
    "        while itr:\n",
    "            count+=1\n",
    "            itr=itr.next\n",
    "        return count\n",
    "    \n",
    "    def remove_at(self,index):\n",
    "        if index<0 or index>=self.get_length():\n",
    "            return \"Index Error- Index is out of range or invalid index\"\n",
    "        \n",
    "        if  index==0:                   #removing from beginning\n",
    "            self.head=self.head.next\n",
    "            return\n",
    "        \n",
    "        count=0\n",
    "        itr=self.head\n",
    "        while itr:\n",
    "            if count==index-1:\n",
    "                itr.next=itr.next.next\n",
    "                break\n",
    "            itr=itr.next\n",
    "            count+=1\n",
    "    def insert_at(self,index,data):\n",
    "        if index<0 or index>=self.get_length():\n",
    "            return \"Index Error- Index is out of range or invalid index\"\n",
    "        if index==0:\n",
    "            self.insert_at_begining(data)\n",
    "            return\n",
    "        \n",
    "        count=0\n",
    "        itr=self.head\n",
    "        while itr:\n",
    "            if count==index-1:\n",
    "                node=Node(data,itr.next)\n",
    "                itr.next=node\n",
    "                break\n",
    "            itr=itr.next\n",
    "            count+=1\n",
    "\n",
    "\n",
    "    def display(self):\n",
    "        if self.head is None:\n",
    "            return (\"The list is empty\")\n",
    "        itr=self.head #create an iteratpr variable itr and assigned head to it\n",
    "        llstr=''\n",
    "        while itr:\n",
    "            llstr=llstr+str(itr.data)+\"-> \"\n",
    "            itr=itr.next\n",
    "        \n",
    "        print(llstr)\n",
    "\n",
    "\n",
    "\n"
   ]
  },
  {
   "cell_type": "code",
   "execution_count": 16,
   "metadata": {},
   "outputs": [],
   "source": [
    "ll=LinkedList()\n",
    "ll.insert_at_begining(10)\n",
    "ll.insert_at_begining(110)"
   ]
  },
  {
   "cell_type": "code",
   "execution_count": 34,
   "metadata": {},
   "outputs": [
    {
     "name": "stdout",
     "output_type": "stream",
     "text": [
      "Sooraj-> Chandini-> 10-> 12-> \n"
     ]
    }
   ],
   "source": [
    "ll.display()"
   ]
  },
  {
   "cell_type": "code",
   "execution_count": 18,
   "metadata": {},
   "outputs": [],
   "source": [
    "ll.insert_at_end(2015)"
   ]
  },
  {
   "cell_type": "code",
   "execution_count": 58,
   "metadata": {},
   "outputs": [],
   "source": [
    "ll=LinkedList()\n",
    "ll.insert_values(['Sooraj','Chandini',10,12])"
   ]
  },
  {
   "cell_type": "code",
   "execution_count": 59,
   "metadata": {},
   "outputs": [
    {
     "data": {
      "text/plain": [
       "4"
      ]
     },
     "execution_count": 59,
     "metadata": {},
     "output_type": "execute_result"
    }
   ],
   "source": [
    "ll.get_length()"
   ]
  },
  {
   "cell_type": "code",
   "execution_count": 60,
   "metadata": {},
   "outputs": [
    {
     "name": "stdout",
     "output_type": "stream",
     "text": [
      "Sooraj-> Chandini-> 10-> 12-> \n"
     ]
    }
   ],
   "source": [
    "ll.display()"
   ]
  },
  {
   "cell_type": "code",
   "execution_count": 56,
   "metadata": {},
   "outputs": [
    {
     "data": {
      "text/plain": [
       "'Index Error- Index is out of range or invalid index'"
      ]
     },
     "execution_count": 56,
     "metadata": {},
     "output_type": "execute_result"
    }
   ],
   "source": [
    "ll.remove_at(-1)"
   ]
  },
  {
   "cell_type": "code",
   "execution_count": 64,
   "metadata": {},
   "outputs": [
    {
     "name": "stdout",
     "output_type": "stream",
     "text": [
      "JackFruit-> Sooraj-> Chandini-> Mango-> 10-> 12-> \n"
     ]
    }
   ],
   "source": [
    "ll.display()"
   ]
  },
  {
   "cell_type": "code",
   "execution_count": 63,
   "metadata": {},
   "outputs": [],
   "source": [
    "ll.insert_at(0,'JackFruit')"
   ]
  },
  {
   "cell_type": "code",
   "execution_count": null,
   "metadata": {},
   "outputs": [],
   "source": [
    "class Node:\n",
    "    def __init__(self, data=None, next=None):\n",
    "        self.data = data #data in the node\n",
    "        self.next = next  #pointer to the next node\n",
    "\n",
    "class LinkedList:\n",
    "    def __init__(self):\n",
    "        self.head = None\n",
    "    \n",
    "    def insert_at_begining(self,data):\n",
    "        node=Node(data,self.head) #create the data and  point it at head\n",
    "        self.head=node             #set new node as head of linked list\n",
    "\n",
    "    def insert_at_end(self,data):\n",
    "        if self.head is None:\n",
    "            self.head=Node(data,None)\n",
    "            return\n",
    "        itr=self.head\n",
    "        while itr.next:\n",
    "            itr=itr.next\n",
    "        \n",
    "        itr.next=Node(data,None)\n",
    "\n",
    "    def insert_values(self,data_list):\n",
    "        self.head=None\n",
    "        for data in data_list:\n",
    "            self.insert_at_end(data)\n",
    "\n",
    "    def get_length(self):\n",
    "        count=0\n",
    "        itr=self.head\n",
    "        while itr:\n",
    "            count+=1\n",
    "            itr=itr.next\n",
    "        return count\n",
    "    \n",
    "    def remove_at(self,index):\n",
    "        if index<0 or index>=self.get_length():\n",
    "            return \"Index Error- Index is out of range or invalid index\"\n",
    "        \n",
    "        if  index==0:                   #removing from beginning\n",
    "            self.head=self.head.next\n",
    "            return\n",
    "        \n",
    "        count=0\n",
    "        itr=self.head\n",
    "        while itr:\n",
    "            if count==index-1:\n",
    "                itr.next=itr.next.next\n",
    "                break\n",
    "            itr=itr.next\n",
    "            count+=1\n",
    "    def insert_at(self,index,data):\n",
    "        if index<0 or index>=self.get_length():\n",
    "            return \"Index Error- Index is out of range or invalid index\"\n",
    "        if index==0:\n",
    "            self.insert_at_begining(data)\n",
    "            return\n",
    "        \n",
    "        count=0\n",
    "        itr=self.head\n",
    "        while itr:\n",
    "            if count==index-1:\n",
    "                node=Node(data,itr.next)\n",
    "                itr.next=node\n",
    "                break\n",
    "            itr=itr.next\n",
    "            count+=1\n",
    "\n",
    "    def insert_value_after(self,data_after,data_to_insert):\n",
    "        \n",
    "\n",
    "    def display(self):\n",
    "        if self.head is None:\n",
    "            return (\"The list is empty\")\n",
    "        itr=self.head #create an iteratpr variable itr and assigned head to it\n",
    "        llstr=''\n",
    "        while itr:\n",
    "            llstr=llstr+str(itr.data)+\"-> \"\n",
    "            itr=itr.next\n",
    "        \n",
    "        print(llstr)"
   ]
  },
  {
   "cell_type": "code",
   "execution_count": 80,
   "metadata": {},
   "outputs": [],
   "source": [
    "# Hash table\n",
    "\n",
    "def get_hash(key):\n",
    "    h=0\n",
    "    for char in key:\n",
    "        h=h+ord(char)\n",
    "    return h%30"
   ]
  },
  {
   "cell_type": "code",
   "execution_count": 81,
   "metadata": {},
   "outputs": [
    {
     "data": {
      "text/plain": [
       "7"
      ]
     },
     "execution_count": 81,
     "metadata": {},
     "output_type": "execute_result"
    }
   ],
   "source": [
    "get_hash('March 6')"
   ]
  },
  {
   "cell_type": "code",
   "execution_count": 82,
   "metadata": {},
   "outputs": [
    {
     "data": {
      "text/plain": [
       "23"
      ]
     },
     "execution_count": 82,
     "metadata": {},
     "output_type": "execute_result"
    }
   ],
   "source": [
    "get_hash('March 13')"
   ]
  },
  {
   "cell_type": "code",
   "execution_count": 130,
   "metadata": {},
   "outputs": [],
   "source": [
    "class HashTable():\n",
    "    def __init__(self):\n",
    "        self.MAX=31\n",
    "        self.arr=[None for i in range(self.MAX)]\n",
    "    \n",
    "    def get_hash(self,key):\n",
    "        h=0\n",
    "        for char in key:\n",
    "            h=h+ord(char)\n",
    "        return h%self.MAX\n",
    "        \n",
    "    def __setitem__(self,key,data):\n",
    "        h=self.get_hash(key)\n",
    "        self.arr[h]=data\n",
    "\n",
    "    def __getitem__(self,key):\n",
    "        h=self.get_hash(key)\n",
    "        return self.arr[h]\n",
    "    \n",
    "    def __delitem__(self,key):\n",
    "        h=self.get_hash(key)\n",
    "        self.arr[h]=None\n",
    "    "
   ]
  },
  {
   "cell_type": "code",
   "execution_count": 126,
   "metadata": {},
   "outputs": [],
   "source": [
    "h=HashTable()"
   ]
  },
  {
   "cell_type": "code",
   "execution_count": 127,
   "metadata": {},
   "outputs": [],
   "source": [
    "h['March 9']=200"
   ]
  },
  {
   "cell_type": "code",
   "execution_count": 128,
   "metadata": {},
   "outputs": [
    {
     "data": {
      "text/plain": [
       "200"
      ]
     },
     "execution_count": 128,
     "metadata": {},
     "output_type": "execute_result"
    }
   ],
   "source": [
    "h['March 9']"
   ]
  },
  {
   "cell_type": "code",
   "execution_count": null,
   "metadata": {},
   "outputs": [],
   "source": [
    "#to Avoid collision\n",
    "1> Linear probing: Checks for the empty space linearly and save the data\n"
   ]
  },
  {
   "cell_type": "code",
   "execution_count": 133,
   "metadata": {},
   "outputs": [],
   "source": [
    "class HashTable():\n",
    "    def __init__(self):\n",
    "        self.MAX=31\n",
    "        self.arr=[[] for i in range(self.MAX)]\n",
    "    \n",
    "    def get_hash(self,key):\n",
    "        h=0\n",
    "        for char in key:\n",
    "            h=h+ord(char)\n",
    "        return h%self.MAX\n",
    "        \n",
    "    def __setitem__(self,key,data):\n",
    "        h=self.get_hash(key)\n",
    "        found=False\n",
    "        for index,element in enumerate(self.arr[h]):\n",
    "            if len(element)==2 and element[0]==key:\n",
    "                self.arr[h][index]=(key,data)\n",
    "                found=True\n",
    "                break\n",
    "            if not found:\n",
    "                self.arr[h].append((key,data))\n",
    "         \n",
    "\n",
    "    def __getitem__(self,key):\n",
    "        h=self.get_hash(key)\n",
    "        for element in self.arr[h]:\n",
    "            if element[0]==key:\n",
    "                return element[1]\n",
    "    \n",
    "    def __delitem__(self,key):\n",
    "        h=self.get_hash(key)\n",
    "        for index,element in enumerate(self.arr[h]):\n",
    "            if  element[0]==key:\n",
    "                del self.arr[h][index]\n",
    "    "
   ]
  },
  {
   "cell_type": "markdown",
   "metadata": {},
   "source": [
    "# Stack-LIFO\n",
    "#Push/Pop operations are performed at the top of the stack.\n",
    "# with a time complexity of O(1)\n",
    "# Search element by value\n",
    "# The space complexity is O(n), where n is the number of elements in the stack.\n",
    "\n",
    "Use cases:\n",
    "    Fuction calling in any programming  language is managed using stack.\n",
    "    undo functionality in any editor uses stack to track down last set of operation"
   ]
  },
  {
   "cell_type": "code",
   "execution_count": 134,
   "metadata": {},
   "outputs": [],
   "source": [
    "from collections import deque\n",
    "stack=deque()"
   ]
  },
  {
   "cell_type": "code",
   "execution_count": 159,
   "metadata": {},
   "outputs": [],
   "source": [
    "class Stack():\n",
    "    def __init__(self):\n",
    "        self.container=deque()\n",
    "    \n",
    "    def push(self,item):\n",
    "        self.container.append(item)\n",
    "        return f\"Item {item} pushed to stack\"\n",
    "        \n",
    "    def pop(self):\n",
    "        try:\n",
    "            return f\"{self.container.pop()} popped from the stack\"\n",
    "        except IndexError:  \n",
    "            return \"Stack is empty!\"\n",
    "        \n",
    "    def peek(self):\n",
    "        if len(self.container)>0:\n",
    "            return self.container[-1]\n",
    "        else:\n",
    "            return 'The stack is empty!'\n",
    "    \n",
    "    def is_empty(self):\n",
    "        if len(self.container)==0:\n",
    "            return \"Stack is empty\"\n",
    "        else:\n",
    "           return \"Stack is not empty\"\n",
    "\n",
    "    def size(self):\n",
    "        return f\"The length of the stack is {len(self.container)}\"\n",
    "    \n",
    "    def display(self):\n",
    "        reversed_container=list(reversed(self.container))\n",
    "        for items in reversed_container:\n",
    "            print(items)\n",
    "        \n"
   ]
  },
  {
   "cell_type": "code",
   "execution_count": 154,
   "metadata": {},
   "outputs": [
    {
     "data": {
      "text/plain": [
       "'Item 2 pushed to stack'"
      ]
     },
     "execution_count": 154,
     "metadata": {},
     "output_type": "execute_result"
    }
   ],
   "source": [
    "s=Stack()\n",
    "s.push(1)\n",
    "s.push(2)"
   ]
  },
  {
   "cell_type": "code",
   "execution_count": 155,
   "metadata": {},
   "outputs": [
    {
     "data": {
      "text/plain": [
       "'The length of the stack is 2'"
      ]
     },
     "execution_count": 155,
     "metadata": {},
     "output_type": "execute_result"
    }
   ],
   "source": [
    "s.size()"
   ]
  },
  {
   "cell_type": "code",
   "execution_count": 158,
   "metadata": {},
   "outputs": [
    {
     "name": "stdout",
     "output_type": "stream",
     "text": [
      "1\n"
     ]
    }
   ],
   "source": [
    "s.display()"
   ]
  },
  {
   "cell_type": "code",
   "execution_count": 157,
   "metadata": {},
   "outputs": [
    {
     "data": {
      "text/plain": [
       "'2 popped from the stack'"
      ]
     },
     "execution_count": 157,
     "metadata": {},
     "output_type": "execute_result"
    }
   ],
   "source": [
    "s.pop()"
   ]
  },
  {
   "cell_type": "code",
   "execution_count": 161,
   "metadata": {},
   "outputs": [],
   "source": [
    "s.is_empty()"
   ]
  }
 ],
 "metadata": {
  "kernelspec": {
   "display_name": "Python 3",
   "language": "python",
   "name": "python3"
  },
  "language_info": {
   "codemirror_mode": {
    "name": "ipython",
    "version": 3
   },
   "file_extension": ".py",
   "mimetype": "text/x-python",
   "name": "python",
   "nbconvert_exporter": "python",
   "pygments_lexer": "ipython3",
   "version": "3.12.1"
  }
 },
 "nbformat": 4,
 "nbformat_minor": 2
}
